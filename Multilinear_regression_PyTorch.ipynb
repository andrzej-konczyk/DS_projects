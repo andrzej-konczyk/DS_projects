{
 "cells": [
  {
   "cell_type": "code",
   "execution_count": 1,
   "metadata": {},
   "outputs": [],
   "source": [
    "import torch"
   ]
  },
  {
   "cell_type": "code",
   "execution_count": 2,
   "metadata": {},
   "outputs": [],
   "source": [
    "torch.manual_seed(42)\n",
    " \n",
    "# Setting weights and bias\n",
    "w = torch.tensor([[3.0], \n",
    "                  [4.0]], requires_grad=True)\n",
    "b = torch.tensor([[1.0]], requires_grad=True)"
   ]
  },
  {
   "cell_type": "code",
   "execution_count": 3,
   "metadata": {},
   "outputs": [],
   "source": [
    "# Defining our forward function for prediction\n",
    "def forward(x):\n",
    "    # using mm module for matrix multiplication \n",
    "    y_pred = torch.mm(x, w) + b\n",
    "    return y_pred"
   ]
  },
  {
   "cell_type": "code",
   "execution_count": 4,
   "metadata": {},
   "outputs": [
    {
     "name": "stdout",
     "output_type": "stream",
     "text": [
      "Printing Prediction:  tensor([[23.]], grad_fn=<AddBackward0>)\n"
     ]
    }
   ],
   "source": [
    "# define a tensor 'x'\n",
    "x = torch.tensor([[2.0, 4.0]])\n",
    "# predict the value with forward function\n",
    "y_pred = forward(x)\n",
    "# show the result\n",
    "print(\"Printing Prediction: \", y_pred)"
   ]
  },
  {
   "cell_type": "code",
   "execution_count": 5,
   "metadata": {},
   "outputs": [],
   "source": [
    "# define a tensor 'X' with multiple rows\n",
    "X = torch.tensor([[1.0, 2.0],\n",
    "                  [3.0, 4.0], \n",
    "                  [5.0, 6.0]])"
   ]
  },
  {
   "cell_type": "code",
   "execution_count": 6,
   "metadata": {},
   "outputs": [
    {
     "name": "stdout",
     "output_type": "stream",
     "text": [
      "Predictions for 'X':  tensor([[12.],\n",
      "        [26.],\n",
      "        [40.]], grad_fn=<AddBackward0>)\n"
     ]
    }
   ],
   "source": [
    "# Making predictions for Multi-Dimensional tensor \"X\"\n",
    "y_pred = forward(X)\n",
    "print(\"Predictions for 'X': \", y_pred)"
   ]
  },
  {
   "cell_type": "code",
   "execution_count": 7,
   "metadata": {},
   "outputs": [],
   "source": [
    "# using Pytorch's own built-in fuction to define the LR model\n",
    "lr_model = torch.nn.Linear(in_features=2, out_features=1)"
   ]
  },
  {
   "cell_type": "code",
   "execution_count": 8,
   "metadata": {},
   "outputs": [
    {
     "name": "stdout",
     "output_type": "stream",
     "text": [
      "Predictions for 'X':  tensor([[1.5488],\n",
      "        [3.8038],\n",
      "        [6.0588]], grad_fn=<AddmmBackward0>)\n"
     ]
    }
   ],
   "source": [
    "# Making predictions for X\n",
    "y_pred = lr_model(X)\n",
    "print(\"Predictions for 'X': \", y_pred)"
   ]
  },
  {
   "cell_type": "code",
   "execution_count": 9,
   "metadata": {},
   "outputs": [],
   "source": [
    "# creating custom modules with package 'nn.Module'\n",
    "class LR(torch.nn.Module):\n",
    "    # Object Constructor\n",
    "    def __init__(self, input_features, output_features):\n",
    "        super().__init__()\n",
    "        self.linear = torch.nn.Linear(input_features, output_features)\n",
    "    # define the forward function for prediction\n",
    "    def forward(self, x):\n",
    "        y_pred = self.linear(x)\n",
    "        return y_pred"
   ]
  },
  {
   "cell_type": "code",
   "execution_count": 10,
   "metadata": {},
   "outputs": [],
   "source": [
    "# build the model object\n",
    "LR_model = LR(2, 1)"
   ]
  },
  {
   "cell_type": "code",
   "execution_count": 11,
   "metadata": {},
   "outputs": [
    {
     "name": "stdout",
     "output_type": "stream",
     "text": [
      "Predictions for 'X':  tensor([[0.4824],\n",
      "        [1.4716],\n",
      "        [2.4609]], grad_fn=<AddmmBackward0>)\n"
     ]
    }
   ],
   "source": [
    "# make predictions for multiple input samples of 'X'\n",
    "y_pred  = LR_model(X)\n",
    "print(\"Predictions for 'X': \", y_pred)"
   ]
  },
  {
   "cell_type": "code",
   "execution_count": 12,
   "metadata": {},
   "outputs": [
    {
     "name": "stdout",
     "output_type": "stream",
     "text": [
      "[Parameter containing:\n",
      "tensor([[ 0.6496, -0.1549]], requires_grad=True), Parameter containing:\n",
      "tensor([0.1427], requires_grad=True)]\n"
     ]
    }
   ],
   "source": [
    "print(list(LR_model.parameters()))"
   ]
  }
 ],
 "metadata": {
  "kernelspec": {
   "display_name": "Python 3.9.7 ('base')",
   "language": "python",
   "name": "python3"
  },
  "language_info": {
   "codemirror_mode": {
    "name": "ipython",
    "version": 3
   },
   "file_extension": ".py",
   "mimetype": "text/x-python",
   "name": "python",
   "nbconvert_exporter": "python",
   "pygments_lexer": "ipython3",
   "version": "3.9.7"
  },
  "orig_nbformat": 4,
  "vscode": {
   "interpreter": {
    "hash": "5be42bdc0f3942fe006c6eed7ae26cb7bae447fc8643a580b87df87dd2180d23"
   }
  }
 },
 "nbformat": 4,
 "nbformat_minor": 2
}
